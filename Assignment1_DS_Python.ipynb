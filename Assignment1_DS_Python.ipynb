{
 "cells": [
  {
   "cell_type": "code",
   "execution_count": null,
   "id": "1125220b",
   "metadata": {},
   "outputs": [],
   "source": [
    "1. Write a Python program to reverse a string without using any built-in string reversal functions."
   ]
  },
  {
   "cell_type": "code",
   "execution_count": 13,
   "id": "c3d296cf",
   "metadata": {},
   "outputs": [
    {
     "name": "stdout",
     "output_type": "stream",
     "text": [
      "!dlroW ,olleH\n"
     ]
    }
   ],
   "source": [
    "# Answer 1:\n",
    "def reverse_string(input_str):\n",
    "    reversed_str = \"\"\n",
    "    for char in input_str:\n",
    "        reversed_str = char + reversed_str\n",
    "    return reversed_str\n",
    "\n",
    "# Test the function\n",
    "string = \"Hello, World!\"\n",
    "reversed_string = reverse_string(string)\n",
    "print(reversed_string)"
   ]
  },
  {
   "cell_type": "code",
   "execution_count": null,
   "id": "086c762c",
   "metadata": {},
   "outputs": [],
   "source": [
    "2. Implement a function to check if a given string is a palindrome."
   ]
  },
  {
   "cell_type": "code",
   "execution_count": 14,
   "id": "b44dab5a",
   "metadata": {},
   "outputs": [
    {
     "name": "stdout",
     "output_type": "stream",
     "text": [
      "True\n",
      "False\n"
     ]
    }
   ],
   "source": [
    "# Answer 2:\n",
    "def is_palindrome(input_str):\n",
    "    # Remove whitespace and convert to lowercase for case-insensitive comparison\n",
    "    input_str = input_str.replace(\" \", \"\").lower()\n",
    "    \n",
    "    # Check if the reversed string is equal to the original string\n",
    "    return input_str == input_str[::-1]\n",
    "\n",
    "# Test the function\n",
    "string1 = \"radar\"\n",
    "print(is_palindrome(string1))  # True\n",
    "\n",
    "string2 = \"Hello, World!\"\n",
    "print(is_palindrome(string2))  # False"
   ]
  },
  {
   "cell_type": "code",
   "execution_count": null,
   "id": "fb8e7966",
   "metadata": {},
   "outputs": [],
   "source": [
    "3. Write a program to find the largest element in a given list."
   ]
  },
  {
   "cell_type": "code",
   "execution_count": 15,
   "id": "56e7170a",
   "metadata": {},
   "outputs": [
    {
     "name": "stdout",
     "output_type": "stream",
     "text": [
      "Largest number: 20\n"
     ]
    }
   ],
   "source": [
    "# Answer 3:\n",
    "def find_largest_element(lst):\n",
    "    if not lst:  # Check if the list is empty\n",
    "        return None\n",
    "    \n",
    "    largest = lst[0]  # Assume the first element is the largest\n",
    "    \n",
    "    for num in lst:\n",
    "        if num > largest:\n",
    "            largest = num\n",
    "    \n",
    "    return largest\n",
    "\n",
    "# Test the function\n",
    "numbers = [10, 5, 8, 20, 15, 3]\n",
    "largest_number = find_largest_element(numbers)\n",
    "print(\"Largest number:\", largest_number)"
   ]
  },
  {
   "cell_type": "code",
   "execution_count": null,
   "id": "0647fb55",
   "metadata": {},
   "outputs": [],
   "source": [
    "4. Implement a function to count the occurrence of each element in a list."
   ]
  },
  {
   "cell_type": "code",
   "execution_count": 16,
   "id": "b850a266",
   "metadata": {},
   "outputs": [
    {
     "name": "stdout",
     "output_type": "stream",
     "text": [
      "Occurrences: {1: 2, 2: 4, 3: 3, 4: 2, 5: 1}\n"
     ]
    }
   ],
   "source": [
    "# Answer 4:\n",
    "def count_occurrences(lst):\n",
    "    occurrences = {}\n",
    "    \n",
    "    for element in lst:\n",
    "        if element in occurrences:\n",
    "            occurrences[element] += 1\n",
    "        else:\n",
    "            occurrences[element] = 1\n",
    "    \n",
    "    return occurrences\n",
    "\n",
    "# Test the function\n",
    "numbers = [1, 2, 3, 2, 1, 2, 3, 4, 5, 4, 3, 2]\n",
    "occurrences = count_occurrences(numbers)\n",
    "print(\"Occurrences:\", occurrences)"
   ]
  },
  {
   "cell_type": "code",
   "execution_count": null,
   "id": "c52c85b2",
   "metadata": {},
   "outputs": [],
   "source": [
    "5. Write a Python program to find the second largest number in a list."
   ]
  },
  {
   "cell_type": "code",
   "execution_count": 17,
   "id": "51099c90",
   "metadata": {},
   "outputs": [
    {
     "name": "stdout",
     "output_type": "stream",
     "text": [
      "Second largest number: 15\n"
     ]
    }
   ],
   "source": [
    "# Answer 5:\n",
    "def find_second_largest(lst):\n",
    "    if len(lst) < 2:\n",
    "        return None\n",
    "\n",
    "    largest = max(lst[0], lst[1])\n",
    "    second_largest = min(lst[0], lst[1])\n",
    "\n",
    "    for num in lst[2:]:\n",
    "        if num > largest:\n",
    "            second_largest = largest\n",
    "            largest = num\n",
    "        elif num > second_largest:\n",
    "            second_largest = num\n",
    "\n",
    "    return second_largest\n",
    "\n",
    "# Test the function\n",
    "numbers = [10, 5, 8, 20, 15, 3]\n",
    "second_largest_number = find_second_largest(numbers)\n",
    "print(\"Second largest number:\", second_largest_number)"
   ]
  },
  {
   "cell_type": "code",
   "execution_count": null,
   "id": "3b970683",
   "metadata": {},
   "outputs": [],
   "source": [
    "6. Implement a function to remove duplicate elements from a list."
   ]
  },
  {
   "cell_type": "code",
   "execution_count": 18,
   "id": "2f66378b",
   "metadata": {},
   "outputs": [
    {
     "name": "stdout",
     "output_type": "stream",
     "text": [
      "Unique numbers: [1, 2, 3, 4, 5]\n"
     ]
    }
   ],
   "source": [
    "# Answer 6:\n",
    "def remove_duplicates(lst):\n",
    "    return list(set(lst))\n",
    "\n",
    "# Test the function\n",
    "numbers = [1, 2, 3, 2, 1, 2, 3, 4, 5, 4, 3, 2]\n",
    "unique_numbers = remove_duplicates(numbers)\n",
    "print(\"Unique numbers:\", unique_numbers)"
   ]
  },
  {
   "cell_type": "code",
   "execution_count": null,
   "id": "deabf64b",
   "metadata": {},
   "outputs": [],
   "source": [
    "7. Write a program to calculate the factorial of a given number."
   ]
  },
  {
   "cell_type": "code",
   "execution_count": 19,
   "id": "dbaf1f3c",
   "metadata": {},
   "outputs": [
    {
     "name": "stdout",
     "output_type": "stream",
     "text": [
      "Factorial of 5 is: 120\n"
     ]
    }
   ],
   "source": [
    "# Answer 7:\n",
    "def calculate_factorial(n):\n",
    "    if n < 0:\n",
    "        return None\n",
    "    elif n == 0:\n",
    "        return 1\n",
    "    else:\n",
    "        factorial = 1\n",
    "        for i in range(1, n + 1):\n",
    "            factorial *= i\n",
    "        return factorial\n",
    "\n",
    "# Test the function\n",
    "number = 5\n",
    "factorial = calculate_factorial(number)\n",
    "print(\"Factorial of\", number, \"is:\", factorial)"
   ]
  },
  {
   "cell_type": "code",
   "execution_count": null,
   "id": "5243b5b7",
   "metadata": {},
   "outputs": [],
   "source": [
    "8. Implement a function to check if a given number is prime."
   ]
  },
  {
   "cell_type": "code",
   "execution_count": 20,
   "id": "1e9910ab",
   "metadata": {},
   "outputs": [
    {
     "name": "stdout",
     "output_type": "stream",
     "text": [
      "17 is prime.\n"
     ]
    }
   ],
   "source": [
    "# Answer 8:\n",
    "def is_prime(number):\n",
    "    if number < 2:\n",
    "        return False\n",
    "    for i in range(2, int(number**0.5) + 1):\n",
    "        if number % i == 0:\n",
    "            return False\n",
    "    return True\n",
    "\n",
    "# Test the function\n",
    "num = 17\n",
    "if is_prime(num):\n",
    "    print(num, \"is prime.\")\n",
    "else:\n",
    "    print(num, \"is not prime.\")"
   ]
  },
  {
   "cell_type": "code",
   "execution_count": null,
   "id": "53d9c28b",
   "metadata": {},
   "outputs": [],
   "source": [
    "9. Write a Python program to sort a list of integers in ascending order."
   ]
  },
  {
   "cell_type": "code",
   "execution_count": 2,
   "id": "daa5d576",
   "metadata": {},
   "outputs": [
    {
     "name": "stdout",
     "output_type": "stream",
     "text": [
      "[1, 2, 3, 5, 9]\n"
     ]
    }
   ],
   "source": [
    "# Answer 9:\n",
    "def bubble_sort(arr):\n",
    "    n = len(arr)\n",
    "    # Traverse through all array elements\n",
    "    for i in range(n - 1):\n",
    "        # Last i elements are already in place\n",
    "        for j in range(0, n - i - 1):\n",
    "            # Swap if the element found is greater than the next element\n",
    "            if arr[j] > arr[j + 1]:\n",
    "                arr[j], arr[j + 1] = arr[j + 1], arr[j]\n",
    "\n",
    "# Test the bubble_sort() function\n",
    "numbers = [5, 2, 9, 1, 3]\n",
    "bubble_sort(numbers)\n",
    "print(numbers)"
   ]
  },
  {
   "cell_type": "code",
   "execution_count": null,
   "id": "117785ca",
   "metadata": {},
   "outputs": [],
   "source": [
    "10. Implement a function to find the sum of all numbers in a list."
   ]
  },
  {
   "cell_type": "code",
   "execution_count": 3,
   "id": "aec9a147",
   "metadata": {},
   "outputs": [
    {
     "name": "stdout",
     "output_type": "stream",
     "text": [
      "15\n"
     ]
    }
   ],
   "source": [
    "# Answer 10:\n",
    "def calculate_sum(numbers):\n",
    "    total = 0\n",
    "    for num in numbers:\n",
    "        total += num\n",
    "    return total\n",
    "\n",
    "# Test the calculate_sum() function\n",
    "numbers = [1, 2, 3, 4, 5]\n",
    "result = calculate_sum(numbers)\n",
    "print(result)"
   ]
  },
  {
   "cell_type": "code",
   "execution_count": null,
   "id": "2af8e2e2",
   "metadata": {},
   "outputs": [],
   "source": [
    "11. Write a program to find the common elements between two lists."
   ]
  },
  {
   "cell_type": "code",
   "execution_count": 4,
   "id": "e0879bc9",
   "metadata": {},
   "outputs": [
    {
     "name": "stdout",
     "output_type": "stream",
     "text": [
      "[4, 5]\n"
     ]
    }
   ],
   "source": [
    "# Answer 11:\n",
    "def find_common_elements(list1, list2):\n",
    "    common_elements = []\n",
    "    for element in list1:\n",
    "        if element in list2:\n",
    "            common_elements.append(element)\n",
    "    return common_elements\n",
    "\n",
    "# Test the find_common_elements() function\n",
    "list1 = [1, 2, 3, 4, 5]\n",
    "list2 = [4, 5, 6, 7, 8]\n",
    "common_elements = find_common_elements(list1, list2)\n",
    "print(common_elements)"
   ]
  },
  {
   "cell_type": "code",
   "execution_count": null,
   "id": "c5ea0e58",
   "metadata": {},
   "outputs": [],
   "source": [
    "12. Implement a function to check if a given string is an anagram of another string."
   ]
  },
  {
   "cell_type": "code",
   "execution_count": 10,
   "id": "91d6ce17",
   "metadata": {},
   "outputs": [
    {
     "name": "stdout",
     "output_type": "stream",
     "text": [
      "The strings are anagrams.\n"
     ]
    }
   ],
   "source": [
    "# Answer 12:\n",
    "def is_anagram(str1, str2):\n",
    "    # Remove spaces and convert strings to lowercase\n",
    "    str1 = str1.replace(\" \", \"\").lower()\n",
    "    str2 = str2.replace(\" \", \"\").lower()\n",
    "\n",
    "    # Check if the sorted characters of the strings are equal\n",
    "    return sorted(str1) == sorted(str2)\n",
    "\n",
    "# Test the function\n",
    "string1 = \"listen\"\n",
    "string2 = \"silent\"\n",
    "if is_anagram(string1, string2):\n",
    "    print(\"The strings are anagrams.\")\n",
    "else:\n",
    "    print(\"The strings are not anagrams.\")"
   ]
  },
  {
   "cell_type": "code",
   "execution_count": null,
   "id": "b85fe953",
   "metadata": {},
   "outputs": [],
   "source": [
    "13. Write a Python program to generate all permutations of a given string."
   ]
  },
  {
   "cell_type": "code",
   "execution_count": 17,
   "id": "b585469b",
   "metadata": {},
   "outputs": [
    {
     "name": "stdout",
     "output_type": "stream",
     "text": [
      "Permutations of abc:\n",
      "abc\n",
      "acb\n",
      "bac\n",
      "bca\n",
      "cab\n",
      "cba\n"
     ]
    }
   ],
   "source": [
    "# Answer 13:\n",
    "def permutations(string):\n",
    "    # Base case: If the string is empty, return an empty list\n",
    "    if len(string) == 0:\n",
    "        return []\n",
    "\n",
    "    # Base case: If the string contains only one character, return the string itself as a single permutation\n",
    "    if len(string) == 1:\n",
    "        return string\n",
    "\n",
    "    # List to store the permutations\n",
    "    result = []\n",
    "\n",
    "    # Iterate over each character in the string\n",
    "    for i in range(len(string)):\n",
    "        # Extract the current character\n",
    "        char = string[i]\n",
    "\n",
    "        # Generate all permutations of the remaining characters\n",
    "        remaining_chars = string[:i] + string[i+1:]\n",
    "        sub_permutations = permutations(remaining_chars)\n",
    "\n",
    "        # Add the current character to each permutation of the remaining characters\n",
    "        for permutation in sub_permutations:\n",
    "            result.append(char + permutation)\n",
    "\n",
    "    return result\n",
    "\n",
    "# Test the function\n",
    "string = \"abc\"\n",
    "permutations_list = permutations(string)\n",
    "print(\"Permutations of\", string + \":\")\n",
    "for permutation in permutations_list:\n",
    "    print(permutation)"
   ]
  },
  {
   "cell_type": "code",
   "execution_count": null,
   "id": "52ad1091",
   "metadata": {},
   "outputs": [],
   "source": [
    "14. Implement a function to calculate the Fibonacci sequence up to a given number of terms."
   ]
  },
  {
   "cell_type": "code",
   "execution_count": 26,
   "id": "e290cd06",
   "metadata": {},
   "outputs": [
    {
     "name": "stdout",
     "output_type": "stream",
     "text": [
      "Fibonacci sequence up to 10 terms:\n",
      "[0, 1, 1, 2, 3, 5, 8, 13, 21, 34]\n"
     ]
    }
   ],
   "source": [
    "# Answer 14:\n",
    "def fibonacci(n):\n",
    "    sequence = []\n",
    "\n",
    "    # Check if the number of terms is less than or equal to 0\n",
    "    if n <= 0:\n",
    "        return sequence\n",
    "\n",
    "    # Generate the Fibonacci sequence\n",
    "    a, b = 0, 1\n",
    "    sequence.append(a)\n",
    "\n",
    "    for _ in range(1, n):\n",
    "        sequence.append(b)\n",
    "        a, b = b, a + b\n",
    "\n",
    "    return sequence\n",
    "\n",
    "# Test the function\n",
    "num_terms = 10\n",
    "fib_sequence = fibonacci(num_terms)\n",
    "print(\"Fibonacci sequence up to\", num_terms, \"terms:\")\n",
    "print(fib_sequence)"
   ]
  },
  {
   "cell_type": "code",
   "execution_count": null,
   "id": "8d027a69",
   "metadata": {},
   "outputs": [],
   "source": [
    "15. Write a program to find the median of a list of numbers."
   ]
  },
  {
   "cell_type": "code",
   "execution_count": 23,
   "id": "df107b35",
   "metadata": {},
   "outputs": [
    {
     "name": "stdout",
     "output_type": "stream",
     "text": [
      "2\n",
      "Median: 17.5\n"
     ]
    }
   ],
   "source": [
    "# Answer 15:\n",
    "def find_median(numbers):\n",
    "    # Sort the list of numbers in ascending order\n",
    "    sorted_numbers = sorted(numbers)\n",
    "\n",
    "    # Find the length of the list\n",
    "    length = len(sorted_numbers)\n",
    "\n",
    "    # Check if the length of the list is even\n",
    "    if length % 2 == 0:\n",
    "        # If the length is even, average the middle two elements\n",
    "        middle_index1 = length // 2 - 1\n",
    "        print(middle_index1)\n",
    "        middle_index2 = length // 2\n",
    "        median = (sorted_numbers[middle_index1] + sorted_numbers[middle_index2]) / 2\n",
    "    else:\n",
    "        # If the length is odd, return the middle element\n",
    "        middle_index = length // 2\n",
    "        median = sorted_numbers[middle_index]\n",
    "\n",
    "    return median\n",
    "\n",
    "# Test the function\n",
    "numbers = [5, 10, 15, 20, 25, 26]\n",
    "median_value = find_median(numbers)\n",
    "print(\"Median:\", median_value)"
   ]
  },
  {
   "cell_type": "code",
   "execution_count": null,
   "id": "af394402",
   "metadata": {},
   "outputs": [],
   "source": [
    "16. Implement a function to check if a given list is sorted in non-decreasing order."
   ]
  },
  {
   "cell_type": "code",
   "execution_count": 1,
   "id": "6a2bf05b",
   "metadata": {},
   "outputs": [],
   "source": [
    "# Answer 16:\n",
    "def is_sorted(arr):\n",
    "    n = len(arr)\n",
    "    for i in range(1, n):\n",
    "        if arr[i] < arr[i-1]:\n",
    "            return False\n",
    "    return True"
   ]
  },
  {
   "cell_type": "code",
   "execution_count": 2,
   "id": "9f35a783",
   "metadata": {},
   "outputs": [
    {
     "name": "stdout",
     "output_type": "stream",
     "text": [
      "True\n",
      "False\n"
     ]
    }
   ],
   "source": [
    "# Example lists\n",
    "list1 = [1, 2, 3, 4, 5]\n",
    "list2 = [1, 3, 2, 4, 5]\n",
    "\n",
    "# Check if the lists are sorted\n",
    "print(is_sorted(list1))  # Output: True\n",
    "print(is_sorted(list2))  # Output: False"
   ]
  },
  {
   "cell_type": "code",
   "execution_count": null,
   "id": "fb168e31",
   "metadata": {},
   "outputs": [],
   "source": [
    "17. Write a Python program to find the intersection of two lists."
   ]
  },
  {
   "cell_type": "code",
   "execution_count": 25,
   "id": "ca00b427",
   "metadata": {},
   "outputs": [
    {
     "name": "stdout",
     "output_type": "stream",
     "text": [
      "Intersection: {4, 5}\n"
     ]
    }
   ],
   "source": [
    "# Answer 17:\n",
    "def find_intersection(list1, list2):\n",
    "    set1 = set(list1)\n",
    "    set2 = set(list2)\n",
    "    intersection = set1.intersection(set2)\n",
    "    return intersection\n",
    "\n",
    "# Example usage\n",
    "list1 = [1, 2, 3, 4, 5]\n",
    "list2 = [4, 5, 6, 7, 8]\n",
    "result = find_intersection(list1, list2)\n",
    "print(\"Intersection:\", result)"
   ]
  },
  {
   "cell_type": "code",
   "execution_count": null,
   "id": "286a9517",
   "metadata": {},
   "outputs": [],
   "source": [
    "18. Implement a function to find the maximum subarray sum in a given list."
   ]
  },
  {
   "cell_type": "code",
   "execution_count": 4,
   "id": "2374b5cb",
   "metadata": {},
   "outputs": [],
   "source": [
    "# Answer 18:\n",
    "def max_subarray_sum(arr):\n",
    "    n = len(arr)\n",
    "    max_sum = float('-inf')  # Initialize with negative infinity\n",
    "    current_sum = 0\n",
    "\n",
    "    for i in range(n):\n",
    "        current_sum += arr[i]\n",
    "\n",
    "        if current_sum > max_sum:\n",
    "            max_sum = current_sum\n",
    "\n",
    "        if current_sum < 0:\n",
    "            current_sum = 0\n",
    "\n",
    "    return max_sum"
   ]
  },
  {
   "cell_type": "code",
   "execution_count": 5,
   "id": "11ac5b83",
   "metadata": {},
   "outputs": [
    {
     "name": "stdout",
     "output_type": "stream",
     "text": [
      "8\n",
      "7\n"
     ]
    }
   ],
   "source": [
    "# Example lists\n",
    "list1 = [1, -2, 3, 4, -1, 2, -5, 4]\n",
    "list2 = [-2, -3, 4, -1, -2, 1, 5, -3]\n",
    "\n",
    "# Find the maximum subarray sum\n",
    "print(max_subarray_sum(list1))  # Output: 8\n",
    "print(max_subarray_sum(list2))  # Output: 7"
   ]
  },
  {
   "cell_type": "code",
   "execution_count": null,
   "id": "bf05fa19",
   "metadata": {},
   "outputs": [],
   "source": [
    "19. Write a program to remove all vowels from a given string."
   ]
  },
  {
   "cell_type": "code",
   "execution_count": 6,
   "id": "52731c8b",
   "metadata": {},
   "outputs": [
    {
     "name": "stdout",
     "output_type": "stream",
     "text": [
      "Result: Hll, Wrld!\n"
     ]
    }
   ],
   "source": [
    "# Answer 19:\n",
    "def remove_vowels(string):\n",
    "    vowels = ['a', 'e', 'i', 'o', 'u', 'A', 'E', 'I', 'O', 'U']\n",
    "    result = \"\"\n",
    "    for char in string:\n",
    "        if char not in vowels:\n",
    "            result += char\n",
    "    return result\n",
    "\n",
    "# Example usage\n",
    "input_string = \"Hello, World!\"\n",
    "result = remove_vowels(input_string)\n",
    "print(\"Result:\", result)"
   ]
  },
  {
   "cell_type": "code",
   "execution_count": null,
   "id": "3178f3dd",
   "metadata": {},
   "outputs": [],
   "source": [
    "20. Implement a function to reverse the order of words in a given sentence."
   ]
  },
  {
   "cell_type": "code",
   "execution_count": 7,
   "id": "e9a90de6",
   "metadata": {},
   "outputs": [],
   "source": [
    "# Answer 20:\n",
    "def reverse_words(sentence):\n",
    "    words = sentence.split()\n",
    "    reversed_words = ' '.join(reversed(words))\n",
    "    return reversed_words"
   ]
  },
  {
   "cell_type": "code",
   "execution_count": 8,
   "id": "b1886592",
   "metadata": {},
   "outputs": [
    {
     "name": "stdout",
     "output_type": "stream",
     "text": [
      "world! Hello,\n",
      "dog. lazy the over jumps fox brown quick The\n"
     ]
    }
   ],
   "source": [
    "# Example sentences\n",
    "sentence1 = \"Hello, world!\"\n",
    "sentence2 = \"The quick brown fox jumps over the lazy dog.\"\n",
    "\n",
    "# Reverse the order of words\n",
    "reversed_sentence1 = reverse_words(sentence1)\n",
    "reversed_sentence2 = reverse_words(sentence2)\n",
    "\n",
    "print(reversed_sentence1)  # Output: \"world! Hello,\"\n",
    "print(reversed_sentence2)  # Output: \"dog. lazy the over jumps fox brown quick The\""
   ]
  },
  {
   "cell_type": "code",
   "execution_count": null,
   "id": "fc5ee6c4",
   "metadata": {},
   "outputs": [],
   "source": [
    "21. Write a Python program to check if two strings are anagrams of each other."
   ]
  },
  {
   "cell_type": "code",
   "execution_count": 9,
   "id": "7819708d",
   "metadata": {},
   "outputs": [],
   "source": [
    "# Answer 21:\n",
    "def are_anagrams(str1, str2):\n",
    "    # Convert strings to lowercase and remove whitespace\n",
    "    str1 = str1.lower().replace(\" \", \"\")\n",
    "    str2 = str2.lower().replace(\" \", \"\")\n",
    "\n",
    "    # Check if the sorted characters of both strings are equal\n",
    "    return sorted(str1) == sorted(str2)"
   ]
  },
  {
   "cell_type": "code",
   "execution_count": 10,
   "id": "3ef3ea4d",
   "metadata": {},
   "outputs": [
    {
     "name": "stdout",
     "output_type": "stream",
     "text": [
      "True\n",
      "False\n",
      "False\n"
     ]
    }
   ],
   "source": [
    "# Example strings\n",
    "string1 = \"listen\"\n",
    "string2 = \"silent\"\n",
    "string3 = \"hello\"\n",
    "string4 = \"world\"\n",
    "\n",
    "# Check if the strings are anagrams\n",
    "print(are_anagrams(string1, string2))  # Output: True\n",
    "print(are_anagrams(string1, string3))  # Output: False\n",
    "print(are_anagrams(string3, string4))  # Output: False"
   ]
  },
  {
   "cell_type": "code",
   "execution_count": null,
   "id": "360fc2b0",
   "metadata": {},
   "outputs": [],
   "source": [
    "22. Implement a function to find the first non-repeating character in a string."
   ]
  },
  {
   "cell_type": "code",
   "execution_count": 11,
   "id": "3a4902f7",
   "metadata": {},
   "outputs": [
    {
     "name": "stdout",
     "output_type": "stream",
     "text": [
      "First non-repeating character: O\n"
     ]
    }
   ],
   "source": [
    "# Answer 22:\n",
    "def find_first_non_repeating_char(string):\n",
    "    char_count = {}\n",
    "    \n",
    "    # Count the occurrences of each character\n",
    "    for char in string:\n",
    "        if char in char_count:\n",
    "            char_count[char] += 1\n",
    "        else:\n",
    "            char_count[char] = 1\n",
    "    \n",
    "    # Find the first non-repeating character\n",
    "    for char in string:\n",
    "        if char_count[char] == 1:\n",
    "            return char\n",
    "    \n",
    "    # If no non-repeating character is found\n",
    "    return None\n",
    "\n",
    "# Example usage\n",
    "input_string = \"OpenAI is amazing\"\n",
    "result = find_first_non_repeating_char(input_string)\n",
    "if result:\n",
    "    print(\"First non-repeating character:\", result)\n",
    "else:\n",
    "    print(\"No non-repeating character found\")"
   ]
  },
  {
   "cell_type": "code",
   "execution_count": null,
   "id": "70018853",
   "metadata": {},
   "outputs": [],
   "source": [
    "23. Write a program to find the prime factors of a given number."
   ]
  },
  {
   "cell_type": "code",
   "execution_count": 12,
   "id": "cc2cff3a",
   "metadata": {},
   "outputs": [],
   "source": [
    "# Answer 23:\n",
    "def prime_factors(n):\n",
    "    factors = []\n",
    "    i = 2\n",
    "\n",
    "    while i <= n:\n",
    "        if n % i == 0:\n",
    "            factors.append(i)\n",
    "            n //= i\n",
    "        else:\n",
    "            i += 1\n",
    "\n",
    "    return factors"
   ]
  },
  {
   "cell_type": "code",
   "execution_count": 13,
   "id": "7fa5b3ae",
   "metadata": {},
   "outputs": [
    {
     "name": "stdout",
     "output_type": "stream",
     "text": [
      "[2, 2, 2, 7]\n",
      "[2, 2, 2, 3, 5]\n",
      "[29]\n"
     ]
    }
   ],
   "source": [
    "# Example numbers\n",
    "num1 = 56\n",
    "num2 = 120\n",
    "num3 = 29\n",
    "\n",
    "# Find the prime factors\n",
    "factors1 = prime_factors(num1)\n",
    "factors2 = prime_factors(num2)\n",
    "factors3 = prime_factors(num3)\n",
    "\n",
    "print(factors1)  # Output: [2, 2, 2, 7]\n",
    "print(factors2)  # Output: [2, 2, 2, 3, 5]\n",
    "print(factors3)  # Output: [29]"
   ]
  },
  {
   "cell_type": "code",
   "execution_count": null,
   "id": "312fb28c",
   "metadata": {},
   "outputs": [],
   "source": [
    "24. Implement a function to check if a given number is a power of two."
   ]
  },
  {
   "cell_type": "code",
   "execution_count": 15,
   "id": "c3525fbf",
   "metadata": {},
   "outputs": [
    {
     "name": "stdout",
     "output_type": "stream",
     "text": [
      "16 is a power of two\n"
     ]
    }
   ],
   "source": [
    "# Answer 24:\n",
    "def is_power_of_two(n):\n",
    "    if n <= 0:\n",
    "        return False\n",
    "    return (n & (n - 1)) == 0\n",
    "\n",
    "# Example usage\n",
    "num = 16\n",
    "result = is_power_of_two(num)\n",
    "if result:\n",
    "    print(num, \"is a power of two\")\n",
    "else:\n",
    "    print(num, \"is not a power of two\")"
   ]
  },
  {
   "cell_type": "code",
   "execution_count": null,
   "id": "bd0589f7",
   "metadata": {},
   "outputs": [],
   "source": [
    "25. Write a Python program to merge two sorted lists into a single sorted list."
   ]
  },
  {
   "cell_type": "code",
   "execution_count": 16,
   "id": "592bf3a2",
   "metadata": {},
   "outputs": [],
   "source": [
    "# Answer 25:\n",
    "def merge_sorted_lists(list1, list2):\n",
    "    merged_list = []\n",
    "    i = j = 0\n",
    "    len1 = len(list1)\n",
    "    len2 = len(list2)\n",
    "\n",
    "    while i < len1 and j < len2:\n",
    "        if list1[i] <= list2[j]:\n",
    "            merged_list.append(list1[i])\n",
    "            i += 1\n",
    "        else:\n",
    "            merged_list.append(list2[j])\n",
    "            j += 1\n",
    "\n",
    "    while i < len1:\n",
    "        merged_list.append(list1[i])\n",
    "        i += 1\n",
    "\n",
    "    while j < len2:\n",
    "        merged_list.append(list2[j])\n",
    "        j += 1\n",
    "\n",
    "    return merged_list"
   ]
  },
  {
   "cell_type": "code",
   "execution_count": 17,
   "id": "1072fcb3",
   "metadata": {},
   "outputs": [
    {
     "name": "stdout",
     "output_type": "stream",
     "text": [
      "[1, 2, 3, 4, 5, 6, 7, 8, 9, 10]\n"
     ]
    }
   ],
   "source": [
    "# Example sorted lists\n",
    "list1 = [1, 3, 5, 7, 9]\n",
    "list2 = [2, 4, 6, 8, 10]\n",
    "\n",
    "# Merge the sorted lists\n",
    "merged_list = merge_sorted_lists(list1, list2)\n",
    "\n",
    "print(merged_list)  # Output: [1, 2, 3, 4, 5, 6, 7, 8, 9, 10]"
   ]
  },
  {
   "cell_type": "code",
   "execution_count": null,
   "id": "de5f0f54",
   "metadata": {},
   "outputs": [],
   "source": [
    "26. Implement a function to find the mode of a list of numbers."
   ]
  },
  {
   "cell_type": "code",
   "execution_count": 18,
   "id": "6268e455",
   "metadata": {},
   "outputs": [
    {
     "name": "stdout",
     "output_type": "stream",
     "text": [
      "Mode(s): [4]\n"
     ]
    }
   ],
   "source": [
    "# Answer 26:\n",
    "from collections import Counter\n",
    "\n",
    "def find_mode(numbers):\n",
    "    counter = Counter(numbers)\n",
    "    max_count = max(counter.values())\n",
    "    modes = [num for num, count in counter.items() if count == max_count]\n",
    "    return modes\n",
    "\n",
    "# Example usage\n",
    "number_list = [1, 2, 2, 3, 3, 3, 4, 4, 4, 4]\n",
    "result = find_mode(number_list)\n",
    "print(\"Mode(s):\", result)"
   ]
  },
  {
   "cell_type": "code",
   "execution_count": null,
   "id": "0eb77564",
   "metadata": {},
   "outputs": [],
   "source": [
    "27. Write a program to find the greatest common divisor (GCD) of two numbers."
   ]
  },
  {
   "cell_type": "code",
   "execution_count": 19,
   "id": "af6dbeb8",
   "metadata": {},
   "outputs": [],
   "source": [
    "# Answer 27:\n",
    "def gcd(a, b):\n",
    "    while b != 0:\n",
    "        a, b = b, a % b\n",
    "    return a"
   ]
  },
  {
   "cell_type": "code",
   "execution_count": 20,
   "id": "111e6495",
   "metadata": {},
   "outputs": [
    {
     "name": "stdout",
     "output_type": "stream",
     "text": [
      "12\n"
     ]
    }
   ],
   "source": [
    "# Example numbers\n",
    "num1 = 48\n",
    "num2 = 60\n",
    "\n",
    "# Find the GCD\n",
    "greatest_common_divisor = gcd(num1, num2)\n",
    "\n",
    "print(greatest_common_divisor)  # Output: 12"
   ]
  },
  {
   "cell_type": "code",
   "execution_count": null,
   "id": "c2e229bf",
   "metadata": {},
   "outputs": [],
   "source": [
    "28. Implement a function to calculate the square root of a given number."
   ]
  },
  {
   "cell_type": "code",
   "execution_count": 21,
   "id": "bcc0c3bb",
   "metadata": {},
   "outputs": [
    {
     "name": "stdout",
     "output_type": "stream",
     "text": [
      "Square root of 25 is: 5.0\n"
     ]
    }
   ],
   "source": [
    "# Answer 28:\n",
    "def square_root(n):\n",
    "    if n < 0:\n",
    "        raise ValueError(\"Square root is not defined for negative numbers\")\n",
    "    if n == 0:\n",
    "        return 0\n",
    "\n",
    "    # Initial guess for the square root\n",
    "    guess = n / 2\n",
    "    while True:\n",
    "        # Calculate a new guess\n",
    "        new_guess = (guess + n / guess) / 2\n",
    "\n",
    "        # Check if the guess has converged\n",
    "        if abs(guess - new_guess) < 1e-9:\n",
    "            return new_guess\n",
    "\n",
    "        # Update the guess for the next iteration\n",
    "        guess = new_guess\n",
    "\n",
    "# Example usage\n",
    "number = 25\n",
    "result = square_root(number)\n",
    "print(\"Square root of\", number, \"is:\", result)"
   ]
  },
  {
   "cell_type": "code",
   "execution_count": null,
   "id": "9975e9c5",
   "metadata": {},
   "outputs": [],
   "source": [
    "29. Write a Python program to check if a given string is a valid palindrome ignoring non-alphanumeric characters."
   ]
  },
  {
   "cell_type": "code",
   "execution_count": 23,
   "id": "57c5a670",
   "metadata": {},
   "outputs": [],
   "source": [
    "# Answer 29:\n",
    "def is_valid_palindrome(string):\n",
    "    # Convert the string to lowercase\n",
    "    string = string.lower()\n",
    "\n",
    "    # Initialize pointers for the start and end of the string\n",
    "    start = 0\n",
    "    end = len(string) - 1\n",
    "\n",
    "    while start < end:\n",
    "        # Skip non-alphanumeric characters from the start\n",
    "        if not string[start].isalnum():\n",
    "            start += 1\n",
    "            continue\n",
    "\n",
    "        # Skip non-alphanumeric characters from the end\n",
    "        if not string[end].isalnum():\n",
    "            end -= 1\n",
    "            continue\n",
    "\n",
    "        # Compare the characters at start and end\n",
    "        if string[start] != string[end]:\n",
    "            return False\n",
    "\n",
    "        start += 1\n",
    "        end -= 1\n",
    "\n",
    "    return True"
   ]
  },
  {
   "cell_type": "code",
   "execution_count": 24,
   "id": "1d84344a",
   "metadata": {},
   "outputs": [
    {
     "name": "stdout",
     "output_type": "stream",
     "text": [
      "True\n",
      "False\n",
      "True\n"
     ]
    }
   ],
   "source": [
    "# Example strings\n",
    "string1 = \"A man, a plan, a canal: Panama\"\n",
    "string2 = \"race a car\"\n",
    "string3 = \"Madam, in Eden, I'm Adam\"\n",
    "\n",
    "# Check if the strings are valid palindromes\n",
    "print(is_valid_palindrome(string1))  # Output: True\n",
    "print(is_valid_palindrome(string2))  # Output: False\n",
    "print(is_valid_palindrome(string3))  # Output: True"
   ]
  },
  {
   "cell_type": "code",
   "execution_count": null,
   "id": "dee34e0b",
   "metadata": {},
   "outputs": [],
   "source": [
    "30. Implement a function to find the minimum element in a rotated sorted list."
   ]
  },
  {
   "cell_type": "code",
   "execution_count": 25,
   "id": "d70a91e6",
   "metadata": {},
   "outputs": [
    {
     "name": "stdout",
     "output_type": "stream",
     "text": [
      "Minimum element: 0\n"
     ]
    }
   ],
   "source": [
    "# Answer 30:\n",
    "def find_minimum(nums):\n",
    "    left = 0\n",
    "    right = len(nums) - 1\n",
    "    \n",
    "    while left < right:\n",
    "        mid = left + (right - left) // 2\n",
    "        \n",
    "        # Check if the mid element is greater than the rightmost element\n",
    "        if nums[mid] > nums[right]:\n",
    "            left = mid + 1\n",
    "        # Check if the mid element is less than the rightmost element\n",
    "        elif nums[mid] < nums[right]:\n",
    "            right = mid\n",
    "        # If the mid element is equal to the rightmost element, move the right pointer to the left\n",
    "        else:\n",
    "            right -= 1\n",
    "    \n",
    "    return nums[left]\n",
    "\n",
    "# Example usage\n",
    "rotated_list = [4, 5, 6, 7, 0, 1, 2]\n",
    "minimum = find_minimum(rotated_list)\n",
    "print(\"Minimum element:\", minimum)"
   ]
  },
  {
   "cell_type": "code",
   "execution_count": null,
   "id": "c19384e2",
   "metadata": {},
   "outputs": [],
   "source": [
    "31. Write a program to find the sum of all even numbers in a list."
   ]
  },
  {
   "cell_type": "code",
   "execution_count": 26,
   "id": "e4aec41a",
   "metadata": {},
   "outputs": [],
   "source": [
    "# Answer 31:\n",
    "def sum_of_even_numbers(numbers):\n",
    "    total = 0\n",
    "\n",
    "    for num in numbers:\n",
    "        if num % 2 == 0:\n",
    "            total += num\n",
    "\n",
    "    return total"
   ]
  },
  {
   "cell_type": "code",
   "execution_count": 27,
   "id": "5e8a1947",
   "metadata": {},
   "outputs": [
    {
     "name": "stdout",
     "output_type": "stream",
     "text": [
      "30\n"
     ]
    }
   ],
   "source": [
    "# Example list of numbers\n",
    "numbers = [1, 2, 3, 4, 5, 6, 7, 8, 9, 10]\n",
    "\n",
    "# Find the sum of even numbers\n",
    "even_sum = sum_of_even_numbers(numbers)\n",
    "\n",
    "print(even_sum)  # Output: 30 (2 + 4 + 6 + 8 + 10 = 30)"
   ]
  },
  {
   "cell_type": "code",
   "execution_count": null,
   "id": "ecdbcad9",
   "metadata": {},
   "outputs": [],
   "source": [
    "32. Implement a function to calculate the power of a number using recursion."
   ]
  },
  {
   "cell_type": "code",
   "execution_count": 28,
   "id": "aba4670a",
   "metadata": {},
   "outputs": [
    {
     "name": "stdout",
     "output_type": "stream",
     "text": [
      "2 raised to the power of 3 is: 8\n"
     ]
    }
   ],
   "source": [
    "# Answer 32:\n",
    "def power(base, exponent):\n",
    "    if exponent == 0:\n",
    "        return 1\n",
    "    elif exponent < 0:\n",
    "        return 1 / power(base, -exponent)\n",
    "    else:\n",
    "        return base * power(base, exponent - 1)\n",
    "\n",
    "# Example usage\n",
    "base = 2\n",
    "exponent = 3\n",
    "result = power(base, exponent)\n",
    "print(base, \"raised to the power of\", exponent, \"is:\", result)"
   ]
  },
  {
   "cell_type": "code",
   "execution_count": null,
   "id": "5d285c5e",
   "metadata": {},
   "outputs": [],
   "source": [
    "33. Write a Python program to remove duplicates from a list while preserving the order."
   ]
  },
  {
   "cell_type": "code",
   "execution_count": 29,
   "id": "7bb1a627",
   "metadata": {},
   "outputs": [],
   "source": [
    "# Answer 33:\n",
    "def remove_duplicates_preserve_order(lst):\n",
    "    unique_list = []\n",
    "\n",
    "    for item in lst:\n",
    "        if item not in unique_list:\n",
    "            unique_list.append(item)\n",
    "\n",
    "    return unique_list"
   ]
  },
  {
   "cell_type": "code",
   "execution_count": 30,
   "id": "30d69eab",
   "metadata": {},
   "outputs": [
    {
     "name": "stdout",
     "output_type": "stream",
     "text": [
      "[1, 2, 3, 4, 5, 6]\n"
     ]
    }
   ],
   "source": [
    "# Example list with duplicates\n",
    "my_list = [1, 2, 3, 2, 4, 1, 5, 4, 6, 5]\n",
    "\n",
    "# Remove duplicates while preserving order\n",
    "unique_list = remove_duplicates_preserve_order(my_list)\n",
    "\n",
    "print(unique_list)  # Output: [1, 2, 3, 4, 5, 6]"
   ]
  },
  {
   "cell_type": "code",
   "execution_count": null,
   "id": "3e307b9b",
   "metadata": {},
   "outputs": [],
   "source": [
    "34. Implement a function to find the longest common prefix among a list of strings."
   ]
  },
  {
   "cell_type": "code",
   "execution_count": 31,
   "id": "b846ca45",
   "metadata": {},
   "outputs": [
    {
     "name": "stdout",
     "output_type": "stream",
     "text": [
      "Longest common prefix: fl\n"
     ]
    }
   ],
   "source": [
    "# Answer 34:\n",
    "def longest_common_prefix(strs):\n",
    "    if not strs:\n",
    "        return \"\"\n",
    "\n",
    "    shortest = min(strs, key=len)\n",
    "    for i, char in enumerate(shortest):\n",
    "        for string in strs:\n",
    "            if string[i] != char:\n",
    "                return shortest[:i]\n",
    "    \n",
    "    return shortest\n",
    "\n",
    "# Example usage\n",
    "string_list = [\"flower\", \"flow\", \"flight\"]\n",
    "result = longest_common_prefix(string_list)\n",
    "print(\"Longest common prefix:\", result)"
   ]
  },
  {
   "cell_type": "code",
   "execution_count": null,
   "id": "79739897",
   "metadata": {},
   "outputs": [],
   "source": [
    "35. Write a program to check if a given number is a perfect square."
   ]
  },
  {
   "cell_type": "code",
   "execution_count": 32,
   "id": "6cd27373",
   "metadata": {},
   "outputs": [],
   "source": [
    "# Answer 35:\n",
    "def is_perfect_square(num):\n",
    "    if num < 0:\n",
    "        return False\n",
    "\n",
    "    root = int(num ** 0.5)\n",
    "    return root * root == num"
   ]
  },
  {
   "cell_type": "code",
   "execution_count": 33,
   "id": "21e8f80f",
   "metadata": {},
   "outputs": [
    {
     "name": "stdout",
     "output_type": "stream",
     "text": [
      "True\n",
      "True\n",
      "False\n"
     ]
    }
   ],
   "source": [
    "# Example numbers\n",
    "number1 = 16\n",
    "number2 = 25\n",
    "number3 = 7\n",
    "\n",
    "# Check if the numbers are perfect squares\n",
    "print(is_perfect_square(number1))  # Output: True\n",
    "print(is_perfect_square(number2))  # Output: True\n",
    "print(is_perfect_square(number3))  # Output: False"
   ]
  },
  {
   "cell_type": "code",
   "execution_count": null,
   "id": "37a60810",
   "metadata": {},
   "outputs": [],
   "source": [
    "36. Implement a function to calculate the product of all elements in a list."
   ]
  },
  {
   "cell_type": "code",
   "execution_count": 34,
   "id": "320da2e3",
   "metadata": {},
   "outputs": [
    {
     "name": "stdout",
     "output_type": "stream",
     "text": [
      "Product of the numbers: 120\n"
     ]
    }
   ],
   "source": [
    "# Answer 36:\n",
    "def calculate_product(numbers):\n",
    "    product = 1\n",
    "    for num in numbers:\n",
    "        product *= num\n",
    "    return product\n",
    "\n",
    "# Example usage\n",
    "number_list = [2, 3, 4, 5]\n",
    "result = calculate_product(number_list)\n",
    "print(\"Product of the numbers:\", result)"
   ]
  },
  {
   "cell_type": "code",
   "execution_count": null,
   "id": "70c96796",
   "metadata": {},
   "outputs": [],
   "source": [
    "37. Write a Python program to reverse the order of words in a sentence while preserving the word order."
   ]
  },
  {
   "cell_type": "code",
   "execution_count": 44,
   "id": "9fa69a07",
   "metadata": {},
   "outputs": [
    {
     "name": "stdout",
     "output_type": "stream",
     "text": [
      "Reversed sentence: you? are how Hello,\n"
     ]
    }
   ],
   "source": [
    "# Answer 37:\n",
    "def reverse_sentence(sentence):\n",
    "    words = sentence.split()\n",
    "    reversed_words = words[::-1]\n",
    "    reversed_sentence = ' '.join(reversed_words)\n",
    "    return reversed_sentence\n",
    "\n",
    "# Example usage\n",
    "input_sentence = \"Hello, how are you?\"\n",
    "reversed_sentence = reverse_sentence(input_sentence)\n",
    "print(\"Reversed sentence:\", reversed_sentence)"
   ]
  },
  {
   "cell_type": "code",
   "execution_count": null,
   "id": "47386ee5",
   "metadata": {},
   "outputs": [],
   "source": [
    "38. Implement a function to find the missing number in a given list of consecutive numbers."
   ]
  },
  {
   "cell_type": "code",
   "execution_count": 37,
   "id": "fe094af9",
   "metadata": {},
   "outputs": [
    {
     "name": "stdout",
     "output_type": "stream",
     "text": [
      "Missing number: 3\n"
     ]
    }
   ],
   "source": [
    "# Answer 38:\n",
    "def find_missing_number(numbers):\n",
    "    n = len(numbers) + 1\n",
    "    total_sum = n * (n + 1) // 2\n",
    "    actual_sum = sum(numbers)\n",
    "    missing_number = total_sum - actual_sum\n",
    "    return missing_number\n",
    "\n",
    "# Example usage\n",
    "number_list = [1, 2, 4, 5, 6]\n",
    "missing_number = find_missing_number(number_list)\n",
    "print(\"Missing number:\", missing_number)"
   ]
  },
  {
   "cell_type": "code",
   "execution_count": null,
   "id": "0a9a08f0",
   "metadata": {},
   "outputs": [],
   "source": [
    "39. Write a program to find the sum of digits of a given number."
   ]
  },
  {
   "cell_type": "code",
   "execution_count": 47,
   "id": "fe63ffc1",
   "metadata": {},
   "outputs": [],
   "source": [
    "# Answer 39:\n",
    "def sum_of_digits(number):\n",
    "    digit_sum = 0\n",
    "\n",
    "    while number > 0:\n",
    "        digit = number % 10\n",
    "        digit_sum += digit\n",
    "        number //= 10\n",
    "\n",
    "    return digit_sum"
   ]
  },
  {
   "cell_type": "code",
   "execution_count": 48,
   "id": "4fbec199",
   "metadata": {},
   "outputs": [
    {
     "name": "stdout",
     "output_type": "stream",
     "text": [
      "15\n"
     ]
    }
   ],
   "source": [
    "# Example number\n",
    "number = 12345\n",
    "\n",
    "# Find the sum of digits\n",
    "digit_sum = sum_of_digits(number)\n",
    "\n",
    "print(digit_sum)  # Output: 15 (1 + 2 + 3 + 4 + 5 = 15)"
   ]
  },
  {
   "cell_type": "code",
   "execution_count": null,
   "id": "afa95a30",
   "metadata": {},
   "outputs": [],
   "source": [
    "40. Implement a function to check if a given string is a valid palindrome considering case sensitivity."
   ]
  },
  {
   "cell_type": "code",
   "execution_count": 51,
   "id": "4d34c3a8",
   "metadata": {},
   "outputs": [
    {
     "name": "stdout",
     "output_type": "stream",
     "text": [
      "The string is a valid palindrome.\n"
     ]
    }
   ],
   "source": [
    "# Answer 40:\n",
    "def is_valid_palindrome(string):\n",
    "    # Remove non-alphanumeric characters and convert to lowercase\n",
    "    cleaned_string = ''.join(char.lower() for char in string if char.isalnum())\n",
    "    # Check if the cleaned string is equal to its reverse\n",
    "    return cleaned_string == cleaned_string[::-1]\n",
    "\n",
    "# Example usage\n",
    "input_string = \"A man, a plan, a canal: Panama\"\n",
    "valid_palindrome = is_valid_palindrome(input_string)\n",
    "if valid_palindrome:\n",
    "    print(\"The string is a valid palindrome.\")\n",
    "else:\n",
    "    print(\"The string is not a valid palindrome.\")"
   ]
  },
  {
   "cell_type": "code",
   "execution_count": null,
   "id": "5283f190",
   "metadata": {},
   "outputs": [],
   "source": [
    "41. Write a Python program to find the smallest missing positive integer in a list."
   ]
  },
  {
   "cell_type": "code",
   "execution_count": 52,
   "id": "46656a72",
   "metadata": {},
   "outputs": [],
   "source": [
    "# Answer 41:\n",
    "def find_smallest_missing_positive(nums):\n",
    "    n = len(nums)\n",
    "\n",
    "    # Step 1: Separate positive and non-positive numbers\n",
    "    j = 0\n",
    "    for i in range(n):\n",
    "        if nums[i] <= 0:\n",
    "            nums[i], nums[j] = nums[j], nums[i]\n",
    "            j += 1\n",
    "\n",
    "    # Step 2: Consider only positive numbers\n",
    "    nums = nums[j:]\n",
    "\n",
    "    # Step 3: Mark presence of positive numbers\n",
    "    for i in range(len(nums)):\n",
    "        num = abs(nums[i])\n",
    "        if num <= len(nums):\n",
    "            nums[num - 1] = -abs(nums[num - 1])\n",
    "\n",
    "    # Step 4: Find the smallest missing positive integer\n",
    "    for i in range(len(nums)):\n",
    "        if nums[i] > 0:\n",
    "            return i + 1\n",
    "\n",
    "    # Step 5: If all positive numbers from 1 to n are present, return n + 1\n",
    "    return len(nums) + 1"
   ]
  },
  {
   "cell_type": "code",
   "execution_count": 53,
   "id": "3d655edd",
   "metadata": {},
   "outputs": [
    {
     "name": "stdout",
     "output_type": "stream",
     "text": [
      "2\n"
     ]
    }
   ],
   "source": [
    "# Example list\n",
    "nums = [3, 4, -1, 1]\n",
    "\n",
    "# Find the smallest missing positive integer\n",
    "smallest_missing = find_smallest_missing_positive(nums)\n",
    "\n",
    "print(smallest_missing)  # Output: 2"
   ]
  },
  {
   "cell_type": "code",
   "execution_count": null,
   "id": "251c68c2",
   "metadata": {},
   "outputs": [],
   "source": [
    "42. Implement a function to find the longest palindrome substring in a given string."
   ]
  },
  {
   "cell_type": "code",
   "execution_count": 54,
   "id": "75aac6a8",
   "metadata": {},
   "outputs": [
    {
     "name": "stdout",
     "output_type": "stream",
     "text": [
      "Longest palindrome substring: aba\n"
     ]
    }
   ],
   "source": [
    "# Answer 42:\n",
    "def longest_palindrome_substring(string):\n",
    "    if not string:\n",
    "        return \"\"\n",
    "\n",
    "    n = len(string)\n",
    "    start = 0\n",
    "    max_len = 1\n",
    "\n",
    "    # Create a table to store palindrome information\n",
    "    dp = [[False] * n for _ in range(n)]\n",
    "\n",
    "    # Single characters are palindromes\n",
    "    for i in range(n):\n",
    "        dp[i][i] = True\n",
    "\n",
    "    # Check for palindromes of length 2\n",
    "    for i in range(n - 1):\n",
    "        if string[i] == string[i + 1]:\n",
    "            dp[i][i + 1] = True\n",
    "            start = i\n",
    "            max_len = 2\n",
    "\n",
    "    # Check for palindromes of length > 2\n",
    "    for length in range(3, n + 1):\n",
    "        for i in range(n - length + 1):\n",
    "            j = i + length - 1\n",
    "\n",
    "            if string[i] == string[j] and dp[i + 1][j - 1]:\n",
    "                dp[i][j] = True\n",
    "                start = i\n",
    "                max_len = length\n",
    "\n",
    "    return string[start:start + max_len]\n",
    "\n",
    "# Example usage\n",
    "input_string = \"babad\"\n",
    "longest_palindrome = longest_palindrome_substring(input_string)\n",
    "print(\"Longest palindrome substring:\", longest_palindrome)"
   ]
  },
  {
   "cell_type": "code",
   "execution_count": null,
   "id": "a85a16ba",
   "metadata": {},
   "outputs": [],
   "source": [
    "43. Write a program to find the number of occurrences of a given element in a list."
   ]
  },
  {
   "cell_type": "code",
   "execution_count": 55,
   "id": "0123e3f5",
   "metadata": {},
   "outputs": [],
   "source": [
    "# Answer 43:\n",
    "def count_occurrences(lst, element):\n",
    "    count = 0\n",
    "\n",
    "    for item in lst:\n",
    "        if item == element:\n",
    "            count += 1\n",
    "\n",
    "    return count"
   ]
  },
  {
   "cell_type": "code",
   "execution_count": 56,
   "id": "57a45b5d",
   "metadata": {},
   "outputs": [
    {
     "name": "stdout",
     "output_type": "stream",
     "text": [
      "3\n"
     ]
    }
   ],
   "source": [
    "# Example list\n",
    "lst = [1, 2, 3, 4, 2, 2, 3, 4, 5]\n",
    "element = 2\n",
    "\n",
    "# Count the number of occurrences\n",
    "occurrences = count_occurrences(lst, element)\n",
    "\n",
    "print(occurrences)  # Output: 3"
   ]
  },
  {
   "cell_type": "code",
   "execution_count": null,
   "id": "ef61a454",
   "metadata": {},
   "outputs": [],
   "source": [
    "44. Implement a function to check if a given number is a perfect number."
   ]
  },
  {
   "cell_type": "code",
   "execution_count": 57,
   "id": "d6876281",
   "metadata": {},
   "outputs": [
    {
     "name": "stdout",
     "output_type": "stream",
     "text": [
      "The number is a perfect number.\n"
     ]
    }
   ],
   "source": [
    "# Answer 44:\n",
    "def is_perfect_number(number):\n",
    "    if number <= 0:\n",
    "        return False\n",
    "\n",
    "    divisors_sum = 0\n",
    "    for i in range(1, number):\n",
    "        if number % i == 0:\n",
    "            divisors_sum += i\n",
    "\n",
    "    return divisors_sum == number\n",
    "\n",
    "# Example usage\n",
    "input_number = 28\n",
    "is_perfect = is_perfect_number(input_number)\n",
    "if is_perfect:\n",
    "    print(\"The number is a perfect number.\")\n",
    "else:\n",
    "    print(\"The number is not a perfect number.\")"
   ]
  },
  {
   "cell_type": "code",
   "execution_count": null,
   "id": "50845fca",
   "metadata": {},
   "outputs": [],
   "source": [
    "45. Write a Python program to remove all duplicates from a string."
   ]
  },
  {
   "cell_type": "code",
   "execution_count": 58,
   "id": "e8e91775",
   "metadata": {},
   "outputs": [],
   "source": [
    "# Answer 45:\n",
    "def remove_duplicates(string):\n",
    "    unique_chars = []\n",
    "\n",
    "    for char in string:\n",
    "        if char not in unique_chars:\n",
    "            unique_chars.append(char)\n",
    "\n",
    "    return ''.join(unique_chars)"
   ]
  },
  {
   "cell_type": "code",
   "execution_count": 59,
   "id": "61110799",
   "metadata": {},
   "outputs": [
    {
     "name": "stdout",
     "output_type": "stream",
     "text": [
      "Helo, Wrd!\n"
     ]
    }
   ],
   "source": [
    "# Example string\n",
    "string = \"Hello, World!\"\n",
    "\n",
    "# Remove duplicates\n",
    "result = remove_duplicates(string)\n",
    "\n",
    "print(result)  # Output: \"Helo, Wrd!\""
   ]
  },
  {
   "cell_type": "code",
   "execution_count": null,
   "id": "d7121177",
   "metadata": {},
   "outputs": [],
   "source": [
    "46. Implement a function to find the first missing positive."
   ]
  },
  {
   "cell_type": "code",
   "execution_count": 63,
   "id": "2f538810",
   "metadata": {},
   "outputs": [
    {
     "name": "stdout",
     "output_type": "stream",
     "text": [
      "First missing positive: 2\n"
     ]
    }
   ],
   "source": [
    "# Answer 46:\n",
    "def first_missing_positive(nums):\n",
    "    n = len(nums)\n",
    "\n",
    "    # Step 1: Move all positive integers to the correct positions\n",
    "    i = 0\n",
    "    while i < n:\n",
    "        # Check if the current number is within the valid range\n",
    "        if 1 <= nums[i] <= n and nums[nums[i] - 1] != nums[i]:\n",
    "            # Swap the current number to its correct position\n",
    "            nums[nums[i] - 1], nums[i] = nums[i], nums[nums[i] - 1]\n",
    "        else:\n",
    "            i += 1\n",
    "\n",
    "    # Step 2: Find the first missing positive number\n",
    "    for i in range(n):\n",
    "        if nums[i] != i + 1:\n",
    "            return i + 1\n",
    "\n",
    "    # If all positive numbers from 1 to n are present, return n + 1\n",
    "    return n + 1\n",
    "\n",
    "# Example usage\n",
    "input_nums = [3, 4, -1, 1]\n",
    "missing_positive = first_missing_positive(input_nums)\n",
    "print(\"First missing positive:\", missing_positive)"
   ]
  },
  {
   "cell_type": "code",
   "execution_count": null,
   "id": "5355e2b1",
   "metadata": {},
   "outputs": [],
   "source": []
  }
 ],
 "metadata": {
  "kernelspec": {
   "display_name": "Python 3 (ipykernel)",
   "language": "python",
   "name": "python3"
  },
  "language_info": {
   "codemirror_mode": {
    "name": "ipython",
    "version": 3
   },
   "file_extension": ".py",
   "mimetype": "text/x-python",
   "name": "python",
   "nbconvert_exporter": "python",
   "pygments_lexer": "ipython3",
   "version": "3.10.9"
  }
 },
 "nbformat": 4,
 "nbformat_minor": 5
}
